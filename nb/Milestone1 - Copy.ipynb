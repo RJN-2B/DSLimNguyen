{
 "cells": [
  {
   "cell_type": "markdown",
   "metadata": {},
   "source": [
    "## https://rjn-2b.github.io/DSLimNguyen/"
   ]
  },
  {
   "cell_type": "markdown",
   "metadata": {},
   "source": [
    "### Dataset description, motivation, and ideas "
   ]
  },
  {
   "cell_type": "markdown",
   "metadata": {},
   "source": [
    "Chanho Lim, Roland Nguyen\n",
    "CMPS3660 Milestone 1\n",
    "\n",
    "As listed above, Roland and Chanho are working together on this project. We are both from a similar background in math and computer science with our coursework emphasizing statistical analysis, but our interests and values vastly differ. Currently, we are considering two different themes that encompass multiple datasets that are vastly different from each other – municipality-level yield data from SIAP with temperature and rainfall data from CLICOM and the Google Play Store Apps (10k apps) compared to the Apple iOS App Store data (7200 apps). We have looked through the format of each dataset, leading us to believe that they are quite promising as we feel they can become tidy data with a bit of munging and melting, which will benefit us in organizing the data we want to perform our analysis. \n",
    "\n",
    "\n",
    "First, we want to competently predict corn yields in Mexico at disaggregated level through municipality-level yield data from SIAP and temperature and rainfall data from CLICOM. Chanho  has acquired this dataset from his Machine Learning study group where a few of his colleagues from different areas of study gather interesting ideas that can be used with Machine Learning. One of the biggest challenges we face with these datasets are understanding the columns and variables as they are written in Spanish and comprehending how crop yield predictions work. As such, we are currently looking into the Sustain group at Stanford to learn how to perform crop yield prediction analysis. Also, we are interested in bringing machine learning into this as we have seen examples from Stanford where they use deep Gaussian models using remote sensing data in Midwest America. \n",
    "\n",
    "\n",
    " Second, the two of us frequently had arguments regarding the quality of apps within Google’s Android ecosystem as opposed to that of Apple’s iOS ecosystem relative to the price you are paying for those apps. For that reason, we have acquired the datasets of Google Play Store and Apple iOS App Store from Kaggle. Although we are a bit concerned about the usability of the Google Play Store dataset due to lack of relevant metadata such as the column descriptions, we wish to compare certain variables of similar apps from the two datasets and draw the differences in popularity, price, ratings and elasticity. These analyses can be done at multiple levels some of which may be less obvious yet just as interesting. We are considering are each app store, per genre, by content ratings, by price ranges, and per common app. Using such analyses, one could help answer such questions that many might have wondered. For example, what genres of apps are more profitable and for which markets? Is there a difference in popularity of certain genres in our datasets? For apps that both exist in the Apple App Store and Google Play Store, is there a general difference in price? If so, does that affect the ratings of the app? How does a titan in its genre space influence the popularity of the genre as a whole, for example Spotify boosting music apps or Twitter and Facebook boosting social media apps. How does the populace prefer paid apps as opposed to their free alternatives by app store? Informing a person of such knowledge may be able to sway them to the other side when it comes to their next smartphone.\n"
   ]
  },
  {
   "cell_type": "markdown",
   "metadata": {},
   "source": [
    "### Resources\n",
    "[Municipality-level yield data SIAP](http://infosiap.siap.gob.mx/gobmx/datosAbiertos.php)\n",
    "\n",
    "[temp and rainfall from CLICOM](http://clicom-mex.cicese.mx/)\n",
    "\n",
    "[Google Play Store dataset](https://www.kaggle.com/lava18/google-play-store-apps/download)\n",
    "\n",
    "[Apple App Store](https://www.kaggle.com/ramamet4/app-store-apple-data-set-10k-apps)\n",
    "\n",
    "[Deep Gaussian Process for Crop Yield Prediction Based on Remote Sensing Data](https://cs.stanford.edu/~ermon/papers/cropyield_AAAI17.pdf)\n",
    "\n",
    "[Sustain Stanford](http://sustain.stanford.edu/crop-yield-analysis)"
   ]
  },
  {
   "cell_type": "code",
   "execution_count": 69,
   "metadata": {},
   "outputs": [],
   "source": [
    "#import all necessary libraries and read csv files\n",
    "%matplotlib inline\n",
    "import pandas as pd\n",
    "import numpy as np\n",
    "import matplotlib as plt\n",
    "import re\n",
    "ggplay_df = pd.read_csv(\"./googleplaystore.csv\")\n",
    "ggplay_user_df = pd.read_csv('./googleplaystore_user_reviews.csv')\n",
    "apple_df = pd.read_csv('./AppleStore.csv')\n",
    "apple_desc_df=pd.read_csv('./appleStore_description.csv')"
   ]
  },
  {
   "cell_type": "code",
   "execution_count": 68,
   "metadata": {},
   "outputs": [
    {
     "data": {
      "text/html": [
       "<div>\n",
       "<style scoped>\n",
       "    .dataframe tbody tr th:only-of-type {\n",
       "        vertical-align: middle;\n",
       "    }\n",
       "\n",
       "    .dataframe tbody tr th {\n",
       "        vertical-align: top;\n",
       "    }\n",
       "\n",
       "    .dataframe thead th {\n",
       "        text-align: right;\n",
       "    }\n",
       "</style>\n",
       "<table border=\"1\" class=\"dataframe\">\n",
       "  <thead>\n",
       "    <tr style=\"text-align: right;\">\n",
       "      <th></th>\n",
       "      <th>App</th>\n",
       "      <th>Rating</th>\n",
       "      <th>Reviews</th>\n",
       "      <th>Size</th>\n",
       "      <th>Installs</th>\n",
       "      <th>Type</th>\n",
       "      <th>Price</th>\n",
       "      <th>Content Rating</th>\n",
       "      <th>Genre</th>\n",
       "      <th>bin_rating</th>\n",
       "    </tr>\n",
       "  </thead>\n",
       "  <tbody>\n",
       "    <tr>\n",
       "      <td>0</td>\n",
       "      <td>Photo Editor &amp; Candy Camera &amp; Grid &amp; ScrapBook</td>\n",
       "      <td>4.1</td>\n",
       "      <td>159</td>\n",
       "      <td>19M</td>\n",
       "      <td>10,000+</td>\n",
       "      <td>Free</td>\n",
       "      <td>0</td>\n",
       "      <td>Everyone</td>\n",
       "      <td>Art &amp; Design</td>\n",
       "      <td>(4.0, 4.5]</td>\n",
       "    </tr>\n",
       "    <tr>\n",
       "      <td>1</td>\n",
       "      <td>Coloring book moana</td>\n",
       "      <td>3.9</td>\n",
       "      <td>967</td>\n",
       "      <td>14M</td>\n",
       "      <td>500,000+</td>\n",
       "      <td>Free</td>\n",
       "      <td>0</td>\n",
       "      <td>Everyone</td>\n",
       "      <td>Art &amp; Design;Pretend Play</td>\n",
       "      <td>(3.5, 4.0]</td>\n",
       "    </tr>\n",
       "    <tr>\n",
       "      <td>2</td>\n",
       "      <td>U Launcher Lite – FREE Live Cool Themes, Hide ...</td>\n",
       "      <td>4.7</td>\n",
       "      <td>87510</td>\n",
       "      <td>8.7M</td>\n",
       "      <td>5,000,000+</td>\n",
       "      <td>Free</td>\n",
       "      <td>0</td>\n",
       "      <td>Everyone</td>\n",
       "      <td>Art &amp; Design</td>\n",
       "      <td>(4.5, 5.0]</td>\n",
       "    </tr>\n",
       "    <tr>\n",
       "      <td>3</td>\n",
       "      <td>Sketch - Draw &amp; Paint</td>\n",
       "      <td>4.5</td>\n",
       "      <td>215644</td>\n",
       "      <td>25M</td>\n",
       "      <td>50,000,000+</td>\n",
       "      <td>Free</td>\n",
       "      <td>0</td>\n",
       "      <td>Teen</td>\n",
       "      <td>Art &amp; Design</td>\n",
       "      <td>(4.0, 4.5]</td>\n",
       "    </tr>\n",
       "    <tr>\n",
       "      <td>4</td>\n",
       "      <td>Pixel Draw - Number Art Coloring Book</td>\n",
       "      <td>4.3</td>\n",
       "      <td>967</td>\n",
       "      <td>2.8M</td>\n",
       "      <td>100,000+</td>\n",
       "      <td>Free</td>\n",
       "      <td>0</td>\n",
       "      <td>Everyone</td>\n",
       "      <td>Art &amp; Design;Creativity</td>\n",
       "      <td>(4.0, 4.5]</td>\n",
       "    </tr>\n",
       "    <tr>\n",
       "      <td>...</td>\n",
       "      <td>...</td>\n",
       "      <td>...</td>\n",
       "      <td>...</td>\n",
       "      <td>...</td>\n",
       "      <td>...</td>\n",
       "      <td>...</td>\n",
       "      <td>...</td>\n",
       "      <td>...</td>\n",
       "      <td>...</td>\n",
       "      <td>...</td>\n",
       "    </tr>\n",
       "    <tr>\n",
       "      <td>10836</td>\n",
       "      <td>Sya9a Maroc - FR</td>\n",
       "      <td>4.5</td>\n",
       "      <td>38</td>\n",
       "      <td>53M</td>\n",
       "      <td>5,000+</td>\n",
       "      <td>Free</td>\n",
       "      <td>0</td>\n",
       "      <td>Everyone</td>\n",
       "      <td>Education</td>\n",
       "      <td>(4.0, 4.5]</td>\n",
       "    </tr>\n",
       "    <tr>\n",
       "      <td>10837</td>\n",
       "      <td>Fr. Mike Schmitz Audio Teachings</td>\n",
       "      <td>5.0</td>\n",
       "      <td>4</td>\n",
       "      <td>3.6M</td>\n",
       "      <td>100+</td>\n",
       "      <td>Free</td>\n",
       "      <td>0</td>\n",
       "      <td>Everyone</td>\n",
       "      <td>Education</td>\n",
       "      <td>(4.5, 5.0]</td>\n",
       "    </tr>\n",
       "    <tr>\n",
       "      <td>10838</td>\n",
       "      <td>Parkinson Exercices FR</td>\n",
       "      <td>NaN</td>\n",
       "      <td>3</td>\n",
       "      <td>9.5M</td>\n",
       "      <td>1,000+</td>\n",
       "      <td>Free</td>\n",
       "      <td>0</td>\n",
       "      <td>Everyone</td>\n",
       "      <td>Medical</td>\n",
       "      <td>NaN</td>\n",
       "    </tr>\n",
       "    <tr>\n",
       "      <td>10839</td>\n",
       "      <td>The SCP Foundation DB fr nn5n</td>\n",
       "      <td>4.5</td>\n",
       "      <td>114</td>\n",
       "      <td>Varies with device</td>\n",
       "      <td>1,000+</td>\n",
       "      <td>Free</td>\n",
       "      <td>0</td>\n",
       "      <td>Mature 17+</td>\n",
       "      <td>Books &amp; Reference</td>\n",
       "      <td>(4.0, 4.5]</td>\n",
       "    </tr>\n",
       "    <tr>\n",
       "      <td>10840</td>\n",
       "      <td>iHoroscope - 2018 Daily Horoscope &amp; Astrology</td>\n",
       "      <td>4.5</td>\n",
       "      <td>398307</td>\n",
       "      <td>19M</td>\n",
       "      <td>10,000,000+</td>\n",
       "      <td>Free</td>\n",
       "      <td>0</td>\n",
       "      <td>Everyone</td>\n",
       "      <td>Lifestyle</td>\n",
       "      <td>(4.0, 4.5]</td>\n",
       "    </tr>\n",
       "  </tbody>\n",
       "</table>\n",
       "<p>10841 rows × 10 columns</p>\n",
       "</div>"
      ],
      "text/plain": [
       "                                                     App  Rating Reviews  \\\n",
       "0         Photo Editor & Candy Camera & Grid & ScrapBook     4.1     159   \n",
       "1                                    Coloring book moana     3.9     967   \n",
       "2      U Launcher Lite – FREE Live Cool Themes, Hide ...     4.7   87510   \n",
       "3                                  Sketch - Draw & Paint     4.5  215644   \n",
       "4                  Pixel Draw - Number Art Coloring Book     4.3     967   \n",
       "...                                                  ...     ...     ...   \n",
       "10836                                   Sya9a Maroc - FR     4.5      38   \n",
       "10837                   Fr. Mike Schmitz Audio Teachings     5.0       4   \n",
       "10838                             Parkinson Exercices FR     NaN       3   \n",
       "10839                      The SCP Foundation DB fr nn5n     4.5     114   \n",
       "10840      iHoroscope - 2018 Daily Horoscope & Astrology     4.5  398307   \n",
       "\n",
       "                     Size     Installs  Type Price Content Rating  \\\n",
       "0                     19M      10,000+  Free     0       Everyone   \n",
       "1                     14M     500,000+  Free     0       Everyone   \n",
       "2                    8.7M   5,000,000+  Free     0       Everyone   \n",
       "3                     25M  50,000,000+  Free     0           Teen   \n",
       "4                    2.8M     100,000+  Free     0       Everyone   \n",
       "...                   ...          ...   ...   ...            ...   \n",
       "10836                 53M       5,000+  Free     0       Everyone   \n",
       "10837                3.6M         100+  Free     0       Everyone   \n",
       "10838                9.5M       1,000+  Free     0       Everyone   \n",
       "10839  Varies with device       1,000+  Free     0     Mature 17+   \n",
       "10840                 19M  10,000,000+  Free     0       Everyone   \n",
       "\n",
       "                           Genre  bin_rating  \n",
       "0                   Art & Design  (4.0, 4.5]  \n",
       "1      Art & Design;Pretend Play  (3.5, 4.0]  \n",
       "2                   Art & Design  (4.5, 5.0]  \n",
       "3                   Art & Design  (4.0, 4.5]  \n",
       "4        Art & Design;Creativity  (4.0, 4.5]  \n",
       "...                          ...         ...  \n",
       "10836                  Education  (4.0, 4.5]  \n",
       "10837                  Education  (4.5, 5.0]  \n",
       "10838                    Medical         NaN  \n",
       "10839          Books & Reference  (4.0, 4.5]  \n",
       "10840                  Lifestyle  (4.0, 4.5]  \n",
       "\n",
       "[10841 rows x 10 columns]"
      ]
     },
     "metadata": {},
     "output_type": "display_data"
    }
   ],
   "source": [
    "# display(ggplay_df[ggplay_df['Size'] != 'Free'])\n",
    "\n",
    "# ggplay_df\n",
    "ggplay_df = ggplay_df.drop(['Current Ver', 'Android Ver', 'Last Updated', 'Category'], axis = 1)\n",
    "ggplay_df = ggplay_df.rename(columns = {'Genres' : 'Genre'})\n",
    "rating_bins = [0.0, 0.5, 1.0, 1.5, 2.0, 2.5,3.0, 3.5, 4.0, 4.5, 5.0]\n",
    "ggplay_df['bin_rating'] = pd.cut(ggplay_df['Rating'], rating_bins)\n",
    "\n",
    "\n",
    "\n",
    "\n",
    "\n",
    "\n",
    "\n",
    "\n",
    "\n",
    "\n",
    "# display(ggplay_df['Size'].unique())\n",
    "# for x in ggplay_df['Size']:\n",
    "# num = ggplay_df['Size'].str.extract('(\\d+)', expand=False)\n",
    "# ggplay_df['size_bytes'] = 0\n",
    "# for i in range(len(ggplay_df['Size'])):\n",
    "#     if 'M' in ggplay_df['Size'][i]:\n",
    "#         ggplay_df.loc[i, 'size_bytes'] = num[i]*1024*1024\n",
    "#     if 'k' in ggplay_df['Size'][i]:\n",
    "#         ggplay_df.loc[i, 'size_bytes'] = num[i]*1024\n",
    "display(ggplay_df)\n",
    "#display(ggplay_df.head())\n",
    "# display(ggplay_df[ggplay_df['Type'] != 'Free'])"
   ]
  },
  {
   "cell_type": "code",
   "execution_count": 52,
   "metadata": {},
   "outputs": [
    {
     "data": {
      "text/html": [
       "<div>\n",
       "<style scoped>\n",
       "    .dataframe tbody tr th:only-of-type {\n",
       "        vertical-align: middle;\n",
       "    }\n",
       "\n",
       "    .dataframe tbody tr th {\n",
       "        vertical-align: top;\n",
       "    }\n",
       "\n",
       "    .dataframe thead th {\n",
       "        text-align: right;\n",
       "    }\n",
       "</style>\n",
       "<table border=\"1\" class=\"dataframe\">\n",
       "  <thead>\n",
       "    <tr style=\"text-align: right;\">\n",
       "      <th></th>\n",
       "      <th>App</th>\n",
       "      <th>Rating</th>\n",
       "      <th>Size</th>\n",
       "      <th>Type</th>\n",
       "      <th>Price</th>\n",
       "      <th>Content Rating</th>\n",
       "      <th>Genres</th>\n",
       "      <th>rating_count_tot</th>\n",
       "    </tr>\n",
       "  </thead>\n",
       "  <tbody>\n",
       "    <tr>\n",
       "      <td>0</td>\n",
       "      <td>PAC-MAN Premium</td>\n",
       "      <td>4.0</td>\n",
       "      <td>100788224</td>\n",
       "      <td>Paid</td>\n",
       "      <td>3.99</td>\n",
       "      <td>4+</td>\n",
       "      <td>Games</td>\n",
       "      <td>21292</td>\n",
       "    </tr>\n",
       "    <tr>\n",
       "      <td>1</td>\n",
       "      <td>Evernote - stay organized</td>\n",
       "      <td>4.0</td>\n",
       "      <td>158578688</td>\n",
       "      <td>Free</td>\n",
       "      <td>0.00</td>\n",
       "      <td>4+</td>\n",
       "      <td>Productivity</td>\n",
       "      <td>161065</td>\n",
       "    </tr>\n",
       "    <tr>\n",
       "      <td>2</td>\n",
       "      <td>WeatherBug - Local Weather, Radar, Maps, Alerts</td>\n",
       "      <td>3.5</td>\n",
       "      <td>100524032</td>\n",
       "      <td>Free</td>\n",
       "      <td>0.00</td>\n",
       "      <td>4+</td>\n",
       "      <td>Weather</td>\n",
       "      <td>188583</td>\n",
       "    </tr>\n",
       "    <tr>\n",
       "      <td>3</td>\n",
       "      <td>eBay: Best App to Buy, Sell, Save! Online Shop...</td>\n",
       "      <td>4.0</td>\n",
       "      <td>128512000</td>\n",
       "      <td>Free</td>\n",
       "      <td>0.00</td>\n",
       "      <td>12+</td>\n",
       "      <td>Shopping</td>\n",
       "      <td>262241</td>\n",
       "    </tr>\n",
       "    <tr>\n",
       "      <td>4</td>\n",
       "      <td>Bible</td>\n",
       "      <td>4.5</td>\n",
       "      <td>92774400</td>\n",
       "      <td>Free</td>\n",
       "      <td>0.00</td>\n",
       "      <td>4+</td>\n",
       "      <td>Reference</td>\n",
       "      <td>985920</td>\n",
       "    </tr>\n",
       "  </tbody>\n",
       "</table>\n",
       "</div>"
      ],
      "text/plain": [
       "                                                 App  Rating       Size  Type  \\\n",
       "0                                    PAC-MAN Premium     4.0  100788224  Paid   \n",
       "1                          Evernote - stay organized     4.0  158578688  Free   \n",
       "2    WeatherBug - Local Weather, Radar, Maps, Alerts     3.5  100524032  Free   \n",
       "3  eBay: Best App to Buy, Sell, Save! Online Shop...     4.0  128512000  Free   \n",
       "4                                              Bible     4.5   92774400  Free   \n",
       "\n",
       "   Price Content Rating        Genres  rating_count_tot  \n",
       "0   3.99             4+         Games             21292  \n",
       "1   0.00             4+  Productivity            161065  \n",
       "2   0.00             4+       Weather            188583  \n",
       "3   0.00            12+      Shopping            262241  \n",
       "4   0.00             4+     Reference            985920  "
      ]
     },
     "metadata": {},
     "output_type": "display_data"
    }
   ],
   "source": [
    "apple_df = apple_df.rename(columns = {'user_rating' : 'Rating','track_name' : 'App', 'ver' : 'Current Ver', 'price' : 'Price', 'prime_genre' : 'Genres', 'size_bytes' : 'Size', 'cont_rating' : 'Content Rating'})\n",
    "apple_df = apple_df.drop(['id', 'Unnamed: 0','sup_devices.num', 'ipadSc_urls.num', 'lang.num', 'vpp_lic' , 'currency', 'Current Ver', 'user_rating_ver', 'rating_count_ver'], axis=1)\n",
    "apple_df['Type'] = np.where(apple_df['Price'] == 0.00, 'Free', 'Paid')\n",
    "apple_df = apple_df[['App', 'Rating', 'Size', 'Type', 'Price', 'Content Rating', 'Genres', 'rating_count_tot']]\n",
    "\n",
    "\n",
    "display(apple_df.head())"
   ]
  },
  {
   "cell_type": "code",
   "execution_count": 53,
   "metadata": {},
   "outputs": [
    {
     "data": {
      "text/plain": [
       "<matplotlib.axes._subplots.AxesSubplot at 0x1fbcae93898>"
      ]
     },
     "execution_count": 53,
     "metadata": {},
     "output_type": "execute_result"
    },
    {
     "data": {
      "image/png": "[encoded data removed]",
      "text/plain": [
       "<Figure size 432x288 with 1 Axes>"
      ]
     },
     "metadata": {},
     "output_type": "display_data"
    }
   ],
   "source": [
    "import seaborn as sns\n",
    "\n",
    "sns.set(style='darkgrid')\n",
    "sns.countplot(x='Rating', data = ggplay_df)"
   ]
  },
  {
   "cell_type": "code",
   "execution_count": 54,
   "metadata": {},
   "outputs": [
    {
     "data": {
      "text/plain": [
       "<matplotlib.axes._subplots.AxesSubplot at 0x1fbcad3a630>"
      ]
     },
     "execution_count": 54,
     "metadata": {},
     "output_type": "execute_result"
    },
    {
     "data": {
      "image/png": "[encoded data removed]",
      "text/plain": [
       "<Figure size 432x288 with 1 Axes>"
      ]
     },
     "metadata": {},
     "output_type": "display_data"
    }
   ],
   "source": [
    "sns.countplot(x='Rating', data = apple_df)"
   ]
  },
  {
   "cell_type": "code",
   "execution_count": 55,
   "metadata": {},
   "outputs": [
    {
     "data": {
      "text/plain": [
       "<matplotlib.axes._subplots.AxesSubplot at 0x1fbcaf8e4a8>"
      ]
     },
     "execution_count": 55,
     "metadata": {},
     "output_type": "execute_result"
    },
    {
     "data": {
      "image/png": "[encoded data removed]",
      "text/plain": [
       "<Figure size 432x288 with 1 Axes>"
      ]
     },
     "metadata": {},
     "output_type": "display_data"
    }
   ],
   "source": [
    "sns.countplot(x='bin_rating', data = ggplay_df)"
   ]
  },
  {
   "cell_type": "markdown",
   "metadata": {},
   "source": [
    ":FIXME\n",
    "ggplay review count vs apple ratings count\n",
    "\n",
    "change size format => transform into all ints\n",
    "\n",
    "for now we drop"
   ]
  }
 ],
 "metadata": {
  "kernelspec": {
   "display_name": "Python 3",
   "language": "python",
   "name": "python3"
  },
  "language_info": {
   "codemirror_mode": {
    "name": "ipython",
    "version": 3
   },
   "file_extension": ".py",
   "mimetype": "text/x-python",
   "name": "python",
   "nbconvert_exporter": "python",
   "pygments_lexer": "ipython3",
   "version": "3.7.3"
  }
 },
 "nbformat": 4,
 "nbformat_minor": 2
}
